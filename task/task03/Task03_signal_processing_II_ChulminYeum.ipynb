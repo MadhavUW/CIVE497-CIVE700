{
 "cells": [
  {
   "cell_type": "markdown",
   "metadata": {},
   "source": [
    "# Task03: Signal Processing II\n",
    "\n",
    "* **Your Name:** \n",
    "* **Your ID:** "
   ]
  },
  {
   "cell_type": "markdown",
   "metadata": {},
   "source": [
    "## Problem 1: Convolution (10 points)\n",
    "\n",
    "$ f(t) = \\begin{Bmatrix} A, \\,\\,\\,\\,\\,\\,\\,\\,\\,\\,\\,\\,\\,\\,   a > \\left | t \\right |\\\\ 0, \\,\\,\\, \\,otherwise \\end{Bmatrix} $\n",
    "\n",
    "$  f(t) = \\begin{Bmatrix} B, \\,\\,\\,\\,\\,\\,\\,\\,\\,\\,\\,\\,\\,\\,   b > \\left | t \\right |\\\\ 0, \\,\\,\\, \\,otherwise \\end{Bmatrix} $\n",
    "\n",
    "where A = 10, a= 3, and B = 7, b = 3\n",
    "\n",
    "**(a)** Compute an analytic y(t) which is the convolution of f(t) and g(t):\n",
    "\n",
    "$ y(t) = f(t) * g(t) $\n",
    "\n",
    "**(b)** Write a code to numerically compute y(t) and plot y(t). Please use for-loop and do not use `conv`. \n",
    "\n",
    "**(c)** Write a code to numerically compute y(t) and plot y(t). Please use `conv`. "
   ]
  },
  {
   "cell_type": "markdown",
   "metadata": {},
   "source": [
    "## Problem 2: Convolution Theorem (10 points)\n",
    "**(a)** Proof the convolution theorem and explain the meaning of these relationships in your words. \n",
    "$$ \\begin{matrix}\n",
    "F\\left \\{ x(t) \\ast h(t) \\right \\} = X(f) \\cdot  H(f) \\\\ \n",
    "F\\left \\{ x(t) \\cdot h(t) \\right \\} = X(f) \\ast  H(f)\n",
    "\\end{matrix}\n",
    "$$\n",
    "\n",
    "**(b)** Compute a Fourier transform of the triangular function in both analytic and numeric ways (Note that this function is not periodic):\n",
    "\n",
    "$$ x(t) =\n",
    "\\begin{cases}\n",
    "1 - |t|, & \\text{if } |t| \\leq 1 \\\\\n",
    "0, & \\text{if } |t| > 1\n",
    "\\end{cases} $$\n",
    "\n",
    "**(c)** Please explain the result in (b) using your answers for Problem 1.  "
   ]
  },
  {
   "cell_type": "markdown",
   "metadata": {},
   "source": [
    "## Problem 3: Discrete Fourier Transform 1 (20 points)\n",
    "**(a)** Please explain the difference between the following three notations in the lecture slide: \n",
    "\n",
    "$$X(f), X_s(f), X(k)$$\n",
    "\n",
    "**(b)** What do these two graphs explain in the lecture slides? \n",
    "\n",
    "![](aliasing.JPG)\n",
    "\n",
    "**(c)** What is the meaning of the following relationship in the lecture slide? Please explain it. \n",
    "\n",
    "![](impulseTrain.jpg)\n",
    "\n",
    "**(d)** What is the meaning of the following relationship in the lecture slide? What issues are introduced by Fourier transform a discrete sequence? Please answer this question using this graph.  \n",
    "\n",
    "![](FTDiscreteSequence.jpg)"
   ]
  },
  {
   "cell_type": "markdown",
   "metadata": {},
   "source": [
    "\n",
    "## Problem 4: Discrete Fourier Transform 2 (20 points) - Use FFT\n",
    "\n",
    "$ y_1(t) = e^{-\\alpha|t|}(b \\cdot \\cos 2\\pi f_1 t + c \\cdot \\cos 2\\pi f_2 t) $ &nbsp;&nbsp;&nbsp;&nbsp; where a = 2, b = 2, c= 6, f<sub>1</sub> = 3, and f<sub>2</sub> = 6 \n",
    "\n",
    "$ y_2(t) = e^{-\\alpha|t|}(b \\cdot \\cos 2\\pi f_1 t + c \\cdot \\cos 2\\pi f_2 t) $ &nbsp;&nbsp;&nbsp;&nbsp; where a = 0.3, b = 10, c= 3, f<sub>1</sub> = 5, and f<sub>2</sub> = 8 \n",
    "\n",
    "**(a)** z1 and z2 are discrete signals, which are obtained by digitizing (sampling) y1(t) and y2(t) with a sampling rate of 30 Hz and collecting them for 10 seconds, respectively. Please plot z1 and z2 in the time domain (include a proper time axis).  \n",
    "\n",
    "**(b)** Perform the discrete Fourier transform of z1 and z2, and plot your graphs in the frequency domain (include a proper frequency axis). Plot only positive frequency signals with absolute values.\n",
    "\n",
    "**(c)** Please compare the shape of the frequency curves of z1 and z2. Which frequency curve is thinner (more narrow)? For example, compare the frequency curve at f<sub>1</sub> in both graphs. Which one is thinner? Please explain your answer. What makes the difference? "
   ]
  },
  {
   "cell_type": "markdown",
   "metadata": {},
   "source": [
    "## Problem 5: Discrete Fourier Transform 3 (30 points) - Use FFT\n",
    "\n",
    "$y(t) = A_1 \\cos(2 \\pi (25) t) + A_2 \\cos(2 \\pi (45) t) + A_3 \\cos(2 \\pi (80) t)$   \n",
    "where A1 = 2, A2 = 10, and A3 = 10. \n",
    "\n",
    "**(a)** y1 is a discrete signal, which is obtained by digitizing y(t) with a sampling rate of 200 Hz for 10 seconds. Please plot y1 in the time domain (include a proper time axis). Please connect the sampled points.  \n",
    "\n",
    "**(b)** Perform the discrete Fourier transform of y1 and plot your graph in the frequency domain (include a proper frequency axis). Plot only a positive frequency signal. Can we measure all three frequencies? \n",
    "\n",
    "**(c)** y2 is a discrete signal, which is obtained by digitizing y(t) with a sampling rate of 140 Hz for 10 seconds. Please plot y2 in the time domain (include a proper time axis). Please connect the sampled points.\n",
    "\n",
    "**(d)** Perform the discrete Fourier transform of y2 and plot your graph in the frequency domain (include a proper frequency axis). Plot only a positive frequency signal. Can we measure all three frequencies? \n",
    "\n",
    "**(e)** If you digitize a longer-duration signal (let's say 100 seconds) with a sampling rate of 140 Hz, can you measure and extract all three frequencies contained in the original signal, y(t)? Please explain your answer. \n",
    "\n",
    "**(f)** If you digitize the signal with a sampling rate of 150 Hz for 20 seconds, can you measure and extract all frequencies contained in the original signal, y(t)? please explain your answer.\n",
    "\n",
    "**(g)** If you digitize the signal with a sampling rate of 161 Hz for 20 seconds, can you measure and extract all frequencies contained in the original signal, y(t)? please explain your answer."
   ]
  },
  {
   "cell_type": "markdown",
   "metadata": {},
   "source": [
    "## Problem 6: Frequency Analysis (10 points)\n",
    "Two sinusoidal accelerations are measured using an accelerometer in a smartphone. Each of the waves is stored at `data1.mat` and `data2.mat`. \n",
    "\n",
    "**(a)** Load `data1.mat` and plot the acceleration signal in a z direction (`zvib`). What is the main frequency of this wave? The sampling frequency is 10.1355 Hz. \n",
    "\n",
    "**(b)** Load `data2.mat` and plot the acceleration signal in a z direction (`zvib`). What is the main frequency of this wave? The sampling frequency is 10.1192 Hz. \n"
   ]
  }
 ],
 "metadata": {
  "kernelspec": {
   "display_name": "Python 3",
   "language": "python",
   "name": "python3"
  },
  "language_info": {
   "name": "python",
   "version": "3.11.7"
  }
 },
 "nbformat": 4,
 "nbformat_minor": 2
}
