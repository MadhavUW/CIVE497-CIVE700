{
 "cells": [
  {
   "cell_type": "markdown",
   "metadata": {},
   "source": [
    "# Task04: Homography\n",
    "\n",
    "* **Your Name:** \n",
    "* **Your ID:** \n",
    "\n",
    "**For the sample demonstration videos, an interactive feature has been included. While you have the option to incorporate this feature into your application, it is not mandatory. You will still receive full marks as long as your application successfully produces the resulting images.**\n",
    "\n",
    "Last updated: Jan 30, 2024"
   ]
  },
  {
   "cell_type": "markdown",
   "metadata": {},
   "source": [
    "## Problem 1: Homogeneous Coordinate (Lines and Points) (5 points)\n",
    "The intersection of two lines **l1** and **l2**, with **l1** passing through the points (2,4) and (1,7), and **l2** passing through the points (6,3) and (-3,8). \n",
    "\n",
    "**(a)** Compute the intersection without using homogeneous coordinates \n",
    "\n",
    "**(b)** Compute the intersection using homogeneous coordinates"
   ]
  },
  {
   "cell_type": "markdown",
   "metadata": {},
   "source": [
    "## Problem 2: Homogeneous Coordinate (Lines) (5 points)\n",
    "\n",
    "The four lines (**l1**, **l2**, **l3**, and **l4**) are intersected at six points. **Among the six points, please find four points that form a quadrangle with your code, not manually**. You are required to develop and execute your own algorithm. Please detail the procedures involved in your algorithm.\n",
    "\n",
    "\\begin{matrix}\n",
    "\\\\ l_1: y = 0.59756\\cdot x + 921.94\n",
    "\\\\ l_2: y = -1.935\\cdot x  + 6050.3\n",
    "\\\\ l_3: y = 0.51575\\cdot x -495.56\n",
    "\\\\ l_4: y = -1.3858\\cdot x + 1685.5\n",
    "\\end{matrix}"
   ]
  },
  {
   "cell_type": "markdown",
   "metadata": {},
   "source": [
    "## Problem 3: Homography (10 points)\n",
    "\n",
    "Image 1 and Image 2 capture a flat rectangular table from different viewpoints. **The pixel locations of the four corners of the table on Image 1 are the locations computed in Problem 2.** When the perspective transformation from the points in image 1 to the ones in image 2 is\n",
    "\n",
    "\n",
    "$$ \\mathbf{H} = \\begin{bmatrix} 0.44973 & -0.3531 & 1147.5 \\\\ 0.2448 & 0.41441 & 96.5 \\\\ 0 & 0 & 1 \\end{bmatrix}$$\n",
    "\n",
    "\n",
    "Please find a line equation for each side of the table in Image 2 (a total of four sides). The line equation should be the form of y = a•x + b.   \n"
   ]
  },
  {
   "cell_type": "markdown",
   "metadata": {},
   "source": [
    "## Problem 4: Linear Algebra (10 points)\n",
    "\n",
    "Note that you should solve (a) and (b) by hand and (c) with a programming script.   \n",
    "\n",
    "**(a)** Find a transpose of inverse H (include your derivation) \n",
    "\n",
    "![](https://latex.codecogs.com/gif.latex?H%20%3D%20%5Cbegin%7Bbmatrix%7D%201%20%26%200%20%26%200%5C%5C%200%20%26%201%20%26%200%5C%5C%20l_1%20%26%20l_2%20%26%20l_3%20%5Cend%7Bbmatrix%7D)\n",
    "\n",
    "**(b)** What is the definition of a row and null space? Please find the rank and nullity of A. \n",
    "\n",
    "$ \\mathbf{A} = \\begin{bmatrix} 1 &  3&  2&  1&  4\\\\ 3 &  6&  8&  4&  -7 \\\\ -1 &  -3&  -2&  -1&  -4 \\\\ 7 &  21&  14&  7&  28 \\end{bmatrix} $  \n",
    "\n",
    "**(c)** You need to find a non-singular (non-trivial) vector of x that satisfy Ax = 0. Does x exist? What is the null space of A and the nullity of A? Please explain your answer. Please answer these questions for each A below. \n",
    "\n",
    "$ \\mathbf{A} = \\begin{bmatrix} 1 &  3&  2&  1&\\\\ 3 &  6&  8&  4& \\\\ 7 &  21&  14&  7& \\\\ 1 &  21&  14&  -3& \\\\ -1 &  2&  3&  7& \\end{bmatrix} $  \n",
    "\n",
    "$ \\mathbf{A} = \\begin{bmatrix} 1 &  3&  2&  1&\\\\ 3 &  6&  8&  4& \\\\ 1 &  21&  14&  -3& \\\\ -1 &  2&  3&  7& \\end{bmatrix} $  \n",
    "\n",
    "$ \\mathbf{A} = \\begin{bmatrix} 1 &  3&  2&  1&\\\\ 3 &  6&  8&  4& \\\\ 1 &  21&  14&  -3&\\end{bmatrix} $  \n"
   ]
  },
  {
   "cell_type": "markdown",
   "metadata": {},
   "source": [
    "## Problem 5: Image Overlay (10 points)\n",
    "\n",
    "![](doc/prob5_1_doc.jpg)<img width=50/>\n",
    "\n",
    "You are tasked with displaying an excellent painting on the wall of my office (**prob5_1.jpg**). Your assignment includes overlaying your chosen \"excellent\" painting onto the whiteboard. To accomplish this, write and utilize your own code to project the image accurately. This process will require you to determine the homography between the whiteboard area and your photo. \n",
    "\n",
    "You **should not** use `findhomography`, `getPerspectiveTransform` in Python. **You must write your own code to find homography (perspective transformation).** \n",
    "\n",
    "Sample outputs are:\n",
    "|![](doc/prob5a_4.PNG)|![](doc/result2.jpg)|\n",
    "|:-----:|:----:|\n"
   ]
  },
  {
   "cell_type": "markdown",
   "metadata": {},
   "source": [
    "## Problem 6: Picture in Picture in Picture in Picture (20 points)\n",
    "\n",
    "|![](doc/prob6.jpg)|![](doc/prob6_result.jpg)|\n",
    "|:-----:|:----:|\n",
    "|(a) original image: *prob6.jpg*|(b) final image: *prob6_result.jpg*|\n",
    "\n",
    "You are tasked with creating a \"picture in picture in picture in picture\" effect by overlaying the given image onto itself. This process will be repeated three times. To achieve this, you must select the four corners of the paper within the image. The final image, titled prob6_result.jpg, will be generated automatically, with no manual intervention required after the initial input. In other words, your code should be capable of producing the final image in a single operation, based solely on the input of the paper's four corners. No manual input of any other values is permitted. \n",
    "\n",
    "Here is a sample demo:\n",
    "\n",
    "[![](http://img.youtube.com/vi/kx3znk9mT_g/0.jpg)](https://youtu.be/kx3znk9mT_g)\n",
    "\n",
    "First, demonstrate the functionality of your code using the provided image, **prob6.jpg**. Include the resulting images in your report to showcase its effectiveness. Next, to further demonstrate the versatility of your code, use a personal image similar to the ones shown in the demo videos. Consider the subject and composition of your images to effectively highlight your code's capabilities. You have the option to either capture a video showcasing your code in action, and include it in your submission, or provide a link to the video. "
   ]
  },
  {
   "cell_type": "markdown",
   "metadata": {},
   "source": [
    "## Problem 7: Build your 3D Planar Measurement Software (20 points)\n",
    "\n",
    "You are going to make a 3D planar measurement tool using homography like ON 4D-CameraMeasure. \n",
    "\n",
    "Here is a sample demo.  \n",
    "\n",
    "[![](http://img.youtube.com/vi/_1SB4L98NME/0.jpg)](https://www.youtube.com/watch?v=_1SB4L98NME)\n",
    "\n",
    "\n",
    "To effectively demonstrate the functionality of your tool, use your own image and incorporate physical measurements. You may choose any size for the calibration paper. Ensure you provide at least two measurements on the same plane where the calibration paper is placed. This approach will help in validating the accuracy and practical application of your tool. Additionally, you have the option to capture a video similar to the demo video, showcasing your tool in action. This video can either be directly included in your submission or you can provide a link to the video. "
   ]
  },
  {
   "cell_type": "markdown",
   "metadata": {},
   "source": [
    "## Problem 8: Add an Extra Feature for your Measurement Software (20 points) + 10 extra points\n",
    "\n",
    "You've already watch the ON 3D-CameraMeasure promotion video:\n",
    "\n",
    "[![](http://img.youtube.com/vi/jmoPCN2NM78/0.jpg)](https://www.youtube.com/watch?v=jmoPCN2NM78)\n",
    "\n",
    "When you see the demo video at [3:54](https://youtu.be/jmoPCN2NM78?t=234), the tool creates guildelins to select the right corners. \n",
    "https://youtu.be/jmoPCN2NM78?t=234 \n",
    "\n",
    "You are tasked with implementing a new feature in your tool. Unlike the interactive functions found in the tool above, your implementation will focus on creating output images. \n",
    "For the input for your tool, you manually provide the pixel coordinates of four corners of the tile you selected. \n",
    "Your code will then automatically generate five images, which is the primary objective of this task.\n",
    "\n",
    "Update 0: Plot random white guide lines on the image. You have the freedom to decide the number of these guide lines. Please mark the tile fitting the corner of the cell created by these white guide lines. Additionally, you should also mark the cell you will configure.\n",
    "Update 1: Move the first corner of the cell to align with the corresponding corner of the tile. **The guide lines should be adjusted based on the homography transformation between the transformed cell and the tile.**\n",
    "Update 2: Similarly, move the second corner of the cell to its corresponding corner on the tile, adjusting the guide lines as per the homography transformation.\n",
    "Update 3: Repeat this process for the third corner of the cell, ensuring the guide lines are transformed appropriately.\n",
    "Update 4: Finally, adjust the fourth corner of the cell in the same manner, completing the homography transformation for all corners.\n",
    "\n",
    "Ensure that once you provide the tile pixel coordinates for each image, the rest of the process should be automated.\n",
    "\n",
    "Here are sample outputs created from my code for your reference.\n",
    "\n",
    "|![](doc/result_grid_img.png)|![](doc/result_How-to-square-for-tiling.png)|\n",
    "|:-----:|:-----:|\n",
    "|![](doc/result_square_floor1.png)|![](doc/result_tile1.png)|\n",
    "\n",
    "\n",
    "Note: The results will vary based on the number of guide lines, their initial locations, and the accuracy of the tile coordinates. Therefore, your results do not need to perfectly match those in my samples.\n",
    "You are required to demonstrate your results using two of the following sample images: 'How-to-square-for-tiling.jpg', 'grid_img.jpg', 'square_floor1.jpg', and 'tile1.jpg'.\n",
    "**Additionally, you need to showcase your results using an image of your own choice.**"
   ]
  }
 ],
 "metadata": {
  "kernelspec": {
   "display_name": "Python 3",
   "language": "python",
   "name": "python3"
  },
  "language_info": {
   "codemirror_mode": {
    "name": "ipython",
    "version": 3
   },
   "file_extension": ".py",
   "mimetype": "text/x-python",
   "name": "python",
   "nbconvert_exporter": "python",
   "pygments_lexer": "ipython3",
   "version": "3.11.7"
  }
 },
 "nbformat": 4,
 "nbformat_minor": 2
}
