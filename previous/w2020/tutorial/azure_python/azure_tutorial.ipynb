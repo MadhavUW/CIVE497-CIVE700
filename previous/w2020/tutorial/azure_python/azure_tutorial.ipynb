{
 "cells": [
  {
   "cell_type": "markdown",
   "metadata": {},
   "source": [
    "Copyright (c) Microsoft Corporation. All rights reserved."
   ]
  },
  {
   "cell_type": "markdown",
   "metadata": {},
   "source": [
    "# Learning Outcomes"
   ]
  },
  {
   "cell_type": "markdown",
   "metadata": {},
   "source": [
    "**Learn how to train models on the cloud using Jupyter Notebooks.**   \n",
    "**This involves creating resource groups, initializing resources (ie. Machine Learning service), VMs (called \"computes\") to do so**"
   ]
  },
  {
   "cell_type": "markdown",
   "metadata": {},
   "source": [
    "### Resources used for this tutorial:\n",
    "\n",
    "0. Signing up for azure. [link](https://azure.microsoft.com/en-us/free/)\n",
    "1. Creating Workspace, VM (Compute) and running Jupyter Notebooks in Azure. [link](https://docs.microsoft.com/en-us/azure/machine-learning/tutorial-1st-experiment-sdk-setup)\n",
    "2. Downloading a sample dataset and training a model. [link](https://docs.microsoft.com/en-us/azure/machine-learning/tutorial-1st-experiment-sdk-train)\n",
    "\n",
    "### Additional Resources (To develop on your local machine):\n",
    "1. Setting up Python SDK on your local machine. [link](https://docs.microsoft.com/en-us/azure/machine-learning/how-to-configure-environment#local)\n",
    "2. Sample Jupyter Notebook Tutorial on training a model on the cloud. [link](https://docs.microsoft.com/en-us/azure/machine-learning/tutorial-train-models-with-aml)\n",
    "\n",
    "What is a resource group? [link](https://docs.microsoft.com/en-us/azure/azure-resource-manager/management/manage-resource-groups-portal)\n",
    "Azure's Machine Learning Service [link](https://azure.microsoft.com/en-us/services/machine-learning/)\n",
    "\n",
    "# Steps:\n",
    "1. Create an azure account.\n",
    "2. Create a resource group\n",
    "3. Create a new \"Machine Learning\" resource\n",
    "4. Create a compute in the service\n",
    "5. Go to: [ml.azure.com](ml.azure.com), create, and develop on your notebook!\n",
    "   \n",
    "For this tutorial, we will be going over a slightly modified microsoft tutorial found [here](https://docs.microsoft.com/en-us/azure/machine-learning/tutorial-1st-experiment-sdk-train)."
   ]
  },
  {
   "cell_type": "markdown",
   "metadata": {},
   "source": [
    "# Tutorial: Train your first model"
   ]
  },
  {
   "cell_type": "markdown",
   "metadata": {},
   "source": [
    "This tutorial is **part two of a two-part tutorial series**. In the previous tutorial, you created a workspace and chose a development environment. In this tutorial, you learn the foundational design patterns in Azure Machine Learning service, and train a simple scikit-learn model based on the diabetes data set. After completing this tutorial, you will have the practical knowledge of the SDK to scale up to developing more-complex experiments and workflows. \n",
    "\n",
    "In this tutorial, you learn the following tasks:\n",
    "\n",
    "> * Connect your workspace and create an experiment \n",
    "> * Load data and train a scikit-learn model\n",
    "> * View training results in the portal"
   ]
  },
  {
   "cell_type": "markdown",
   "metadata": {},
   "source": [
    "## Prerequisites\n",
    "\n",
    "The only prerequisite is to run the previous tutorial, Setup environment and workspace."
   ]
  },
  {
   "cell_type": "markdown",
   "metadata": {},
   "source": [
    "## Connect workspace and create experiment"
   ]
  },
  {
   "cell_type": "markdown",
   "metadata": {},
   "source": [
    "Import the `Workspace` class, and load your subscription information from the file `config.json` using the function `from_config().` This looks for the JSON file in the current directory by default, but you can also specify a path parameter to point to the file using `from_config(path=\"your/file/path\")`. If you are running this notebook in a cloud notebook server in your workspace, the file is automatically in the root directory.\n",
    "\n",
    "If the following code asks for additional authentication, simply paste the link in a browser and enter the authentication token."
   ]
  },
  {
   "cell_type": "code",
   "execution_count": 1,
   "metadata": {},
   "outputs": [],
   "source": [
    "from azureml.core import Workspace\n",
    "ws = Workspace.from_config()"
   ]
  },
  {
   "cell_type": "markdown",
   "metadata": {},
   "source": [
    "Now create an experiment in your workspace. An experiment is another foundational cloud resource that represents a collection of trials (individual model runs). In this tutorial you use the experiment to create runs and track your model training in the Azure Portal. Parameters include your workspace reference, and a string name for the experiment."
   ]
  },
  {
   "cell_type": "code",
   "execution_count": 3,
   "metadata": {},
   "outputs": [],
   "source": [
    "from azureml.core import Experiment\n",
    "experiment = Experiment(workspace=ws, name=\"diabetes-experiment\")"
   ]
  },
  {
   "cell_type": "markdown",
   "metadata": {},
   "source": [
    "## Load data and prepare for training"
   ]
  },
  {
   "cell_type": "markdown",
   "metadata": {},
   "source": [
    "For this tutorial, you use the diabetes data set, which uses features like age, gender, and BMI to predict diabetes disease progression. Load the data from the Azure Open Datasets class, and split it into training and test sets using `train_test_split()`. This function segregates the data so the model has unseen data to use for testing following training."
   ]
  },
  {
   "cell_type": "code",
   "execution_count": 4,
   "metadata": {},
   "outputs": [
    {
     "name": "stdout",
     "output_type": "stream",
     "text": [
      "Top 5 rows of the full dataset:\n",
      "   AGE  SEX   BMI     BP   S1     S2    S3   S4      S5  S6    Y\n",
      "0   59    2  32.1  101.0  157   93.2  38.0  4.0  4.8598  87  151\n",
      "1   48    1  21.6   87.0  183  103.2  70.0  3.0  3.8918  69   75\n",
      "2   72    2  30.5   93.0  156   93.6  41.0  4.0  4.6728  85  141\n",
      "3   24    1  25.3   84.0  198  131.4  40.0  5.0  4.8903  89  206\n",
      "4   50    1  23.0  101.0  192  125.4  52.0  4.0  4.2905  80  135\n",
      "\n",
      "\n",
      "\n",
      "\n",
      "Shape (rows, cols) of full dataset:\n",
      "(442, 11)\n",
      "Top 5 rows of the training (features) dataset:\n",
      "     AGE  SEX   BMI     BP   S1     S2    S3    S4      S5   S6\n",
      "440   36    1  30.0   95.0  201  125.2  42.0  4.79  5.1299   85\n",
      "389   47    2  26.5   70.0  181  104.8  63.0  3.00  4.1897   70\n",
      "5     23    1  22.6   89.0  139   64.8  61.0  2.00  4.1897   68\n",
      "289   28    2  31.5   83.0  228  149.4  38.0  6.00  5.3132   83\n",
      "101   53    2  22.2  113.0  197  115.2  67.0  3.00  4.3041  100\n",
      "\n",
      "\n",
      "Top 5 rows of the training (target) dataset:\n",
      "440    220\n",
      "389     51\n",
      "5       97\n",
      "289     68\n",
      "101    102\n",
      "Name: Y, dtype: int64\n",
      "Shape (rows, cols) of training (features) dataset:\n",
      "(353, 10)\n",
      "Shape (rows, cols) of testing (features) dataset:\n",
      "(89, 10)\n",
      "Shape (rows, cols) of training (target) dataset:\n",
      "(353,)\n",
      "Shape (rows, cols) of testing (target) dataset:\n",
      "(89,)\n"
     ]
    }
   ],
   "source": [
    "from azureml.opendatasets import Diabetes\n",
    "from sklearn.model_selection import train_test_split\n",
    "\n",
    "x_df = Diabetes.get_tabular_dataset().to_pandas_dataframe().dropna()\n",
    "\n",
    "print(\"Top 5 rows of the full dataset:\")\n",
    "print(x_df.head())\n",
    "print(\"\\n\")\n",
    "print('\\n')\n",
    "print(\"Shape (rows, cols) of full dataset:\")\n",
    "print(x_df.shape)\n",
    "\n",
    "y_df = x_df.pop(\"Y\")\n",
    "\n",
    "X_train, X_test, y_train, y_test = train_test_split(x_df, y_df, test_size=0.2, random_state=66)\n",
    "\n",
    "print(\"Top 5 rows of the training (features) dataset:\")\n",
    "print(X_train.head())\n",
    "print(\"\\n\")\n",
    "print(\"Top 5 rows of the training (target) dataset:\")\n",
    "print(y_train.head())\n",
    "print(\"Shape (rows, cols) of training (features) dataset:\")\n",
    "print(X_train.shape)\n",
    "print(\"Shape (rows, cols) of testing (features) dataset:\")\n",
    "print(X_test.shape)\n",
    "print(\"Shape (rows, cols) of training (target) dataset:\")\n",
    "print(y_train.shape)\n",
    "print(\"Shape (rows, cols) of testing (target) dataset:\")\n",
    "print(y_test.shape)"
   ]
  },
  {
   "cell_type": "markdown",
   "metadata": {},
   "source": [
    "## Train a model"
   ]
  },
  {
   "cell_type": "markdown",
   "metadata": {},
   "source": [
    "Training a simple scikit-learn model can easily be done locally for small-scale training, but when training many iterations with dozens of different feature permutations and hyperparameter settings, it is easy to lose track of what models you've trained and how you trained them. The following design pattern shows how to leverage the SDK to easily keep track of your training in the cloud.\n",
    "\n",
    "Build a script that trains ridge models in a loop through different hyperparameter alpha values."
   ]
  },
  {
   "cell_type": "code",
   "execution_count": 5,
   "metadata": {},
   "outputs": [
    {
     "name": "stdout",
     "output_type": "stream",
     "text": [
      "RMSE for alpha 1: 56.661108984990534\n"
     ]
    }
   ],
   "source": [
    "from sklearn.linear_model import Ridge\n",
    "from sklearn.metrics import mean_squared_error\n",
    "from sklearn.externals import joblib\n",
    "import math\n",
    "\n",
    "alpha = 1\n",
    "run = experiment.start_logging()\n",
    "run.log(\"alpha_value\", alpha)\n",
    "\n",
    "model = Ridge(alpha=alpha)\n",
    "model.fit(X=X_train, y=y_train)\n",
    "y_pred = model.predict(X=X_test)\n",
    "rmse = math.sqrt(mean_squared_error(y_true=y_test, y_pred=y_pred))\n",
    "run.log(\"rmse\", rmse)\n",
    "print(f\"RMSE for alpha {alpha}: {rmse}\")\n",
    "model_name = \"model_alpha_\" + str(alpha) + \".pkl\"\n",
    "filename = \"outputs/\" + model_name\n",
    "\n",
    "joblib.dump(value=model, filename=filename)\n",
    "run.upload_file(name=model_name, path_or_stream=filename)\n",
    "run.complete()"
   ]
  },
  {
   "cell_type": "markdown",
   "metadata": {},
   "source": [
    "The above code accomplishes the following:\n",
    "\n",
    "1. For each alpha hyperparameter value in the `alphas` array, a new run is created within the experiment. The alpha value is logged to differentiate between each run.\n",
    "1. In each run, a Ridge model is instantiated, trained, and used to run predictions. The root-mean-squared-error is calculated for the actual versus predicted values, and then logged to the run. At this point the run has metadata attached for both the alpha value and the rmse accuracy.\n",
    "1. Next, the model for each run is serialized and uploaded to the run. This allows you to download the model file from the run in the portal.\n",
    "1. At the end of each iteration the run is completed by calling `run.complete()`.\n",
    "\n"
   ]
  },
  {
   "cell_type": "markdown",
   "metadata": {},
   "source": [
    "After the training has completed, call the `experiment` variable to fetch a link to the experiment in the portal."
   ]
  },
  {
   "cell_type": "code",
   "execution_count": 6,
   "metadata": {},
   "outputs": [
    {
     "data": {
      "text/html": [
       "<table style=\"width:100%\"><tr><th>Name</th><th>Workspace</th><th>Report Page</th><th>Docs Page</th></tr><tr><td>diabetes-experiment</td><td>ml-ss2019</td><td><a href=\"https://ml.azure.com/experiments/diabetes-experiment?wsid=/subscriptions/5bca9f0c-266f-4306-a345-df1d37a298f7/resourcegroups/ss2020/workspaces/ml-ss2019\" target=\"_blank\" rel=\"noopener\">Link to Azure Machine Learning studio</a></td><td><a href=\"https://docs.microsoft.com/en-us/python/api/azureml-core/azureml.core.experiment.Experiment?view=azure-ml-py\" target=\"_blank\" rel=\"noopener\">Link to Documentation</a></td></tr></table>"
      ],
      "text/plain": [
       "Experiment(Name: diabetes-experiment,\n",
       "Workspace: ml-ss2019)"
      ]
     },
     "execution_count": 6,
     "metadata": {},
     "output_type": "execute_result"
    }
   ],
   "source": [
    "experiment"
   ]
  },
  {
   "cell_type": "markdown",
   "metadata": {},
   "source": [
    "## View training results in portal"
   ]
  },
  {
   "cell_type": "markdown",
   "metadata": {},
   "source": [
    "Following the **Link to Azure Portal** takes you to the main experiment page. Here you see all the individual runs in the experiment. Any custom-logged values (`alpha_value` and `rmse`, in this case) become fields for each run, and also become available for the charts and tiles at the top of the experiment page. To add a logged metric to a chart or tile, hover over it, click the edit button, and find your custom-logged metric.\n",
    "\n",
    "When training models at scale over hundreds and thousands of runs, this page makes it easy to see every model you trained, specifically how they were trained, and how your unique metrics have changed over time."
   ]
  },
  {
   "cell_type": "markdown",
   "metadata": {},
   "source": [
    "![Main Experiment page in Portal](imgs/experiment_main.png)"
   ]
  },
  {
   "cell_type": "markdown",
   "metadata": {},
   "source": [
    "Clicking on a run number link in the `RUN NUMBER` column takes you to the page for each individual run. The default tab **Details** shows you more-detailed information on each run. Navigate to the **Outputs** tab, and you see the `.pkl` file for the model that was uploaded to the run during each training iteration. Here you can download the model file, rather than having to retrain it manually."
   ]
  },
  {
   "cell_type": "markdown",
   "metadata": {},
   "source": [
    "![Run details page in Portal](imgs/model_download.png)"
   ]
  },
  {
   "cell_type": "markdown",
   "metadata": {},
   "source": [
    "## Clean up resources\n",
    "\n",
    "Do not complete this section if you plan on running other Azure Machine Learning service tutorials.\n",
    "\n",
    "### Stop the notebook VM\n",
    "\n",
    "If you used a cloud notebook server, stop the VM when you are not using it to reduce cost.\n",
    "\n",
    "1. In your workspace, select **Compute**.\n",
    "\n",
    "1. Select the **Notebook VMs** tab in the compute page.\n",
    "\n",
    "1. From the list, select the VM.\n",
    "\n",
    "1. Select **Stop**.\n",
    "\n",
    "1. When you're ready to use the server again, select **Start**.\n",
    "\n",
    "### Delete everything\n",
    "\n",
    "If you don't plan to use the resources you created, delete them, so you don't incur any charges:\n",
    "\n",
    "1. In the Azure portal, select **Resource groups** on the far left.\n",
    "\n",
    "1. From the list, select the resource group you created.\n",
    "\n",
    "1. Select **Delete resource group**.\n",
    "\n",
    "1. Enter the resource group name. Then select **Delete**.\n",
    "\n",
    "You can also keep the resource group but delete a single workspace. Display the workspace properties and select **Delete**."
   ]
  },
  {
   "cell_type": "markdown",
   "metadata": {},
   "source": [
    "## Next steps\n",
    "\n",
    "In this tutorial, you did the following tasks:\n",
    "\n",
    "> * Connected your workspace and created an experiment\n",
    "> * Loaded data and trained scikit-learn models\n",
    "> * Viewed training results in the portal and retrieved models\n",
    "\n",
    "[Deploy your model](https://docs.microsoft.com/azure/machine-learning/service/tutorial-deploy-models-with-aml) with Azure Machine Learning.\n",
    "Learn how to develop [automated machine learning](https://docs.microsoft.com/azure/machine-learning/service/tutorial-auto-train-models) experiments."
   ]
  }
 ],
 "metadata": {
  "authors": [
   {
    "name": "trbye"
   }
  ],
  "categories": [
   "tutorials"
  ],
  "kernelspec": {
   "display_name": "Python 3.6 - AzureML",
   "language": "python",
   "name": "python3-azureml"
  },
  "language_info": {
   "codemirror_mode": {
    "name": "ipython",
    "version": 3
   },
   "file_extension": ".py",
   "mimetype": "text/x-python",
   "name": "python",
   "nbconvert_exporter": "python",
   "pygments_lexer": "ipython3",
   "version": "3.6.9"
  },
  "msauthor": "trbye"
 },
 "nbformat": 4,
 "nbformat_minor": 2
}
