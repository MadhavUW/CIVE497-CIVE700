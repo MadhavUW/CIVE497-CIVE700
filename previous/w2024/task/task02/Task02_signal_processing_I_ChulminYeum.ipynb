{
 "cells": [
  {
   "cell_type": "markdown",
   "metadata": {},
   "source": [
    "# Task02: Signal Processing I\n",
    "\n",
    "* **Your Name:** \n",
    "* **Your ID:** "
   ]
  },
  {
   "cell_type": "markdown",
   "metadata": {},
   "source": [
    "## Problem 1: Sampling (10 points)\n",
    "**(a)** What is the difference between continuous (or analogue) and discrete (or digital) signals? \n",
    "\n",
    "**(b)** Plot a 5 Hz cosine wave with a high sampling rate (nearly analog signal). Please connect the sampled points and plot only four cycles of the wave.     \n",
    "\n",
    "**(c)** Plot the 5 Hz cosine wave after sampling with 20 Hz. Please plot the sampled data for four cycles of the wave (**do not connect** the sampled points).\n",
    "\n",
    "**(d)** Plot the 5 Hz cosine wave after sampling with 8 Hz. Please plot only four cycles of the wave (**connect** the sampled points). Do you think that you can get a true frequency of the wave after sampling? \n",
    "\n",
    "**(e)** Do you think that you can measure the frequency of the sampled wave in (d) if you add a phase angle to the original wave? For example, the original wave is cos(2&pi;ft + &phi;). Explain your answer. \n",
    "\n",
    "**(f)** Do you think that you can measure the frequency of the sampled wave in (d) if you add a dc signal to the original wave? For example, the original wave is cos(2&pi;ft) + d. Explain your answer. \n",
    "\n",
    "**(g)** What sampling rate do we use to measure the 20 Hz sine wave?  "
   ]
  },
  {
   "cell_type": "markdown",
   "metadata": {},
   "source": [
    "<div class=\"alert-danger\">\n",
    "Anwer for Problem 1 \n",
    "</div>\n",
    "\n"
   ]
  },
  {
   "cell_type": "markdown",
   "metadata": {},
   "source": [
    "## Problem 2: Aliasing (20 points)\n",
    "\n",
    ">Aliasing is the phenomenon that the high frequency contents will be ***falsely*** represented by a low frequency and this false frequency is called **alias frequency**. \n",
    "\n",
    "**(a)** A 8 Hz sine wave is sampled at 12 Hz. Compute the alias frequency that results from the sampling of the original wave. Plot 20 cycles of the original wave, and overlay the sampled points and connect the points (with a different colour). Please confirm that the sampled signal appears as oscillating with the alias frequency that you found.\n",
    "\n",
    "**(b)** A 8 Hz sine wave is sampled at 20 Hz. Compute the alias frequency that results from the sampling of the original wave. Plot 12 cycles of the original wave, and overlay the sampled points and connect the points (with a different colour). Please confirm that the sampled signal appears as oscillating with the alias frequency that you found.\n",
    "\n",
    "**(c)** Assume that the measured signal has a combination of three periodic signals:  \n",
    "\n",
    "$y(t)= A1(cos2\\pi(15)t) + A2(cos2\\pi(45)t) + A3(cos2\\pi(75)t)$\n",
    "\n",
    "\n",
    "If the signal is sampled at 110 Hz, determine the frequency content of the sampled signal. Please provide an explanation for your analysis.\n",
    "\n",
    "**(d)** Assume that the measured signal has a combination of periodic signals:  \n",
    "\n",
    "$y(t)= A1(cos2\\pi(15)t) + A2(cos2\\pi(45)t) + A3(cos2\\pi(75)t)$\n",
    "\n",
    "If the signal is sampled at 170 Hz, determine the frequency content of the sampled signal. Please provide an explanation for your analysis.\n",
    "\n",
    "**(e)** Assume that the measured signal has a combination of periodic signals:  \n",
    "\n",
    "$y(t)= B1(sin2\\pi(15)t + B2(sin2\\pi(45)t) + B3(sin2\\pi(75)t)$\n",
    "\n",
    "If the signal is sampled at 100 Hz, determine the frequency content of the sampled signal. Please provide an explanation for your analysis."
   ]
  },
  {
   "cell_type": "markdown",
   "metadata": {},
   "source": [
    "## Problem 3: Issues in Sampling (15 points)\n",
    "**(a)** Please explain aliasing. When do they occur? How to avoid them?\n",
    "\n",
    "**(b)** Please explain quantification errors. When do they occur? How to avoid them?\n",
    "\n",
    "**(c)** Please explain clipping errors. When do they occur? How to avoid them?  \n",
    "\n",
    "**(d)** Please explain oversampling issues. When do they occur? What are the consequence of the oversampling? \n",
    "\n",
    "**(e)** Assume that a building vibrates with a 10 Hz sine wave: \n",
    "\n",
    "$ y=cos(2\\pi f_0 t) \\quad \\quad f_0 = 10$\n",
    "\n",
    "and you measured this vibration using your accelerometer and DAQ system. Please write a code to create three different sampled signals that are damaged by (1) aliasing, (2)  quantization error, and (3) clipping error, respectively. Also, generate a signal having an oversampling issue. You should understand the topics of *Aliasing*, *Quantization*, *Clipping*, and *Oversampling* to solve this problem. You need to explain why your sampled signals contain each of these errors/issues. You can assume any sampling rate, output range, or ADC resolution to generate these signals. Your code should plot these four signals.     "
   ]
  },
  {
   "cell_type": "markdown",
   "metadata": {},
   "source": [
    "## Problem 4: Fourier Series 1 (10 points)\n",
    "**(a)** Plot a **wave1**.  The **wave1** is \n",
    "\n",
    "$ y = cos(4\\pi f_0 t) \\cdot cos(4\\pi f_0 t) $\n",
    "\n",
    "where f<sub>0</sub> = 10. Please connect sampled points and plot only ten cycles of the wave (You can choose any sampling rate).  \n",
    "\n",
    "**(b)** Derive a Fourier series (general form) of analytic **wave1**. You should find an analytic equation for coefficients of a<sub>0</sub>, a<sub>n</sub>, and b<sub>n</sub>. \n",
    "\n",
    "**(c)** Derive a Fourier series (complex form) of analytic **wave1**. You should find   an analytic equation for a coefficient of c<sub>n</sub>. \n",
    "\n",
    "**(d)** Derive a Fourier series (general form) of analytic **wave2**: \n",
    "\n",
    "$ y = cos(4\\pi f_0 t) \\cdot cos(4\\pi f_0 t) + 5$\n",
    "\n",
    "You should find analytic equations for coefficients of a<sub>0</sub>, a<sub>n</sub>, and b<sub>n</sub>. \n",
    "\n",
    "**(e)** Please compare the results of (b) and (d) and explain their difference."
   ]
  },
  {
   "cell_type": "markdown",
   "metadata": {},
   "source": [
    "## Problem 5: Fourier Series 2 (20 points)\n",
    "Sawtooth wave: [https://en.wikipedia.org/wiki/Sawtooth_wave](https://en.wikipedia.org/wiki/Sawtooth_wave) \n",
    "\n",
    "**(a)** Plot only ten cycles of a reverse sawtooth wave:  \n",
    "\n",
    "$x(t) = -t + floor(t)$\n",
    "\n",
    "**(b)** Derive a Fourier series (general form) for a reverse sawtooth wave: \n",
    "\n",
    "$x(t) = -t + floor(t)$\n",
    " \n",
    "Please check the wikipedia [link](https://en.wikipedia.org/wiki/Sawtooth_wave). You should find an analytic equation for coefficients of a<sub>0</sub>, a<sub>n</sub>, and b<sub>n</sub>. \n",
    "\n",
    "**(c)** Derive a Fourier series (complex form) for the same reverse sawtooth wave. You should find an analytic equation for a coefficient of c<sub>n</sub>. \n",
    "\n",
    "**(d)** Write a code to create and plot approximated sawtooth waves (# of coefficients (n) = 10)  using the derived Fourier series in the general and complex forms. You should compare the waves from the general and complex forms.   \n",
    "\n",
    "**(e)** Write a code to find numerical Fourier coefficients in the general and complex forms and compare them with the analytic Fourier coefficients found in (b) and (c).  "
   ]
  },
  {
   "cell_type": "markdown",
   "metadata": {},
   "source": [
    "## Problem 6: Fourier Transformation 1 (15 points)\n",
    "Compute the Fourier transformation (integral) of the following functions and show the derivation process in detail:  \n",
    "\n",
    "**(a)** cosine wave\n",
    "\n",
    "$ y = cos(3\\pi p_0 t)$\n",
    "\n",
    "\n",
    "**(b)** cosine wave + dc (direct current) wave\n",
    "\n",
    "$ y = cos(3\\pi p_0 t) + d$\n",
    "\n",
    "**(c)** two cosine waves\n",
    "\n",
    "$ y = cos(3\\pi p_0 t) + cos(3\\pi p_1 t) $\n"
   ]
  },
  {
   "cell_type": "markdown",
   "metadata": {},
   "source": [
    "## Problem 7: Fourier Transformation 2 (10 points)\n",
    "\n",
    "$ y(t) = e^{-a|t|}(b \\cdot \\cos 2\\pi f_1 t + c \\cdot \\cos 2\\pi f_2 t) $\n",
    "\n",
    "**(a)** Compute the Fourier transformation (integral) of the above function\n",
    "\n",
    "**(b)** Plot y in time domain and frequency domain, where a = 1, b = 2, c= 6, f<sub>1</sub> = 3, and f<sub>2</sub> = 6 \n",
    "\n",
    "**(c)** Plot y in time domain and frequency domain, where a = 0.5, b = 2, c= 6, f<sub>1</sub> = 3, and f<sub>2</sub> = 6 \n",
    "\n",
    "**(d)** Compare the graphs in (b) and (c)\n"
   ]
  }
 ],
 "metadata": {
  "kernelspec": {
   "display_name": "Python 3",
   "language": "python",
   "name": "python3"
  },
  "language_info": {
   "name": "python",
   "version": "3.11.7"
  }
 },
 "nbformat": 4,
 "nbformat_minor": 2
}
